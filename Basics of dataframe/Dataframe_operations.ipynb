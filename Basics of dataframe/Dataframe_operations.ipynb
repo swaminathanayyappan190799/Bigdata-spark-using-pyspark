{
  "cells": [
    {
      "cell_type": "markdown",
      "metadata": {
        "id": "jvhjFsgQYXCi"
      },
      "source": [
        "# **Operations performed using spark dataframe**\n",
        "\n",
        "Once if you load your data as a dataframe using pyspark, there are lot many operations available in spark dataframe which will be more useful in analyzing the dara in a better way. In this notebook let's discuss how to\n",
        "\n",
        "\n",
        "\n",
        "> Execute SQL commands in a spark dataframe.\n",
        "\n",
        "\n",
        "> Query the spark dataframe using filter with single and multiple conditional operators.\n",
        "\n",
        "\n",
        "> Converting a query result (spark datframe) into a json(python dictionary).\n",
        "\n",
        "\n",
        "\n",
        "\n",
        "\n"
      ]
    },
    {
      "cell_type": "code",
      "execution_count": 1,
      "metadata": {
        "id": "tlFBOacIWRRh"
      },
      "outputs": [],
      "source": [
        "#As an initial step let's create a spark session.\n",
        "from pyspark.sql import SparkSession\n",
        "spark = SparkSession.builder.appName(\"df_ops\").getOrCreate()"
      ]
    },
    {
      "cell_type": "code",
      "execution_count": 2,
      "metadata": {
        "id": "VymNV7RfZksF"
      },
      "outputs": [],
      "source": [
        "#Reading the data using spark as a dataframe.\n",
        "df=spark.read.csv(\"Data1.csv\", inferSchema=True, header=True)"
      ]
    },
    {
      "cell_type": "code",
      "execution_count": 3,
      "metadata": {
        "colab": {
          "base_uri": "https://localhost:8080/"
        },
        "id": "eBLdeWejaGWh",
        "outputId": "38848643-c6aa-4ba6-a641-2ed81762db96"
      },
      "outputs": [
        {
          "name": "stdout",
          "output_type": "stream",
          "text": [
            "+-----------+----+\n",
            "|       Name| Age|\n",
            "+-----------+----+\n",
            "|Swaminathan|  24|\n",
            "|      Peter|null|\n",
            "|        Sam|  54|\n",
            "|      Henry|null|\n",
            "+-----------+----+\n",
            "\n"
          ]
        }
      ],
      "source": [
        "df.show()"
      ]
    },
    {
      "cell_type": "code",
      "execution_count": 4,
      "metadata": {
        "colab": {
          "base_uri": "https://localhost:8080/"
        },
        "id": "RAvcQXxiaJ18",
        "outputId": "de70a99e-92bc-4118-ec2e-29c29ff1e439"
      },
      "outputs": [
        {
          "name": "stdout",
          "output_type": "stream",
          "text": [
            "+-----------+----+------+\n",
            "|       Name| Age|NewAge|\n",
            "+-----------+----+------+\n",
            "|Swaminathan|  24|    48|\n",
            "|      Peter|null|  null|\n",
            "|        Sam|  54|   108|\n",
            "|      Henry|null|  null|\n",
            "+-----------+----+------+\n",
            "\n"
          ]
        }
      ],
      "source": [
        "#Creating one new column as \"NewAge\" in the dataframe.\n",
        "df=df.withColumn(\"NewAge\",df[\"Age\"]*2)\n",
        "df.show()"
      ]
    },
    {
      "cell_type": "markdown",
      "metadata": {
        "id": "yzI7bOGLahXm"
      },
      "source": [
        "## **Executing SQL commands on spark dataframe**\n",
        "\n",
        "Querying using SQL commands over a spark dataframe is possible by creating a temporary view of the entire dataframe as shown below."
      ]
    },
    {
      "cell_type": "code",
      "execution_count": 5,
      "metadata": {
        "id": "IwxXyF3aaW0L"
      },
      "outputs": [],
      "source": [
        "# I have created a temporary view by replicating the entire spark dataframe in the name of \"employee.\"\n",
        "df.createOrReplaceTempView(\"employee\")"
      ]
    },
    {
      "cell_type": "markdown",
      "metadata": {
        "id": "wHZL1dAXaqMR"
      },
      "source": [
        "Getting data of a employee whose age is less than or equal to 25."
      ]
    },
    {
      "cell_type": "code",
      "execution_count": 6,
      "metadata": {
        "colab": {
          "base_uri": "https://localhost:8080/"
        },
        "id": "yjru35Q_anSe",
        "outputId": "1204bbca-abfe-40d1-f8fd-dca18afb76a1"
      },
      "outputs": [
        {
          "name": "stdout",
          "output_type": "stream",
          "text": [
            "+-----------+---+------+\n",
            "|       Name|Age|NewAge|\n",
            "+-----------+---+------+\n",
            "|Swaminathan| 24|    48|\n",
            "+-----------+---+------+\n",
            "\n"
          ]
        }
      ],
      "source": [
        "#Getting Employee's age less than or equal to 25\n",
        "spark.sql(\"SELECT * FROM employee WHERE Age<=25\").show()"
      ]
    },
    {
      "cell_type": "markdown",
      "metadata": {
        "id": "1497rhbYa15I"
      },
      "source": [
        "Getting name of the employee whose age is beyond 50."
      ]
    },
    {
      "cell_type": "code",
      "execution_count": 7,
      "metadata": {
        "colab": {
          "base_uri": "https://localhost:8080/"
        },
        "id": "aF5UAbpUaysO",
        "outputId": "a60318df-ddb2-4d4e-d945-0780f689f54b"
      },
      "outputs": [
        {
          "name": "stdout",
          "output_type": "stream",
          "text": [
            "+----+\n",
            "|Name|\n",
            "+----+\n",
            "| Sam|\n",
            "+----+\n",
            "\n"
          ]
        }
      ],
      "source": [
        "#Getting name of the employee whose age is beyond 50.\n",
        "spark.sql(\"SELECT Name FROM employee WHERE Age>=50\").show()"
      ]
    },
    {
      "cell_type": "markdown",
      "metadata": {
        "id": "mIU1wojsbOh7"
      },
      "source": [
        "Getting name of the person whose age is 24 and newage is 48"
      ]
    },
    {
      "cell_type": "code",
      "execution_count": 8,
      "metadata": {
        "colab": {
          "base_uri": "https://localhost:8080/"
        },
        "id": "k96GOMiobKic",
        "outputId": "eac4a5e4-977f-4938-aa94-427de31cb428"
      },
      "outputs": [
        {
          "name": "stdout",
          "output_type": "stream",
          "text": [
            "+-----------+\n",
            "|       Name|\n",
            "+-----------+\n",
            "|Swaminathan|\n",
            "+-----------+\n",
            "\n"
          ]
        }
      ],
      "source": [
        "#Getting name of the employee whose age is 24 and newage is 48.\n",
        "spark.sql(\"SELECT Name FROM employee WHERE Age==24 AND NewAge==48\").show()"
      ]
    },
    {
      "cell_type": "markdown",
      "metadata": {
        "id": "W8cpcKUfb7au"
      },
      "source": [
        "## **Query the spark dataframe using filter**\n",
        "\n",
        "As like executing SQL queries in a spark dataframe, we can also query a spark dataframe using the filter() that is available for pyspark dataframes. "
      ]
    },
    {
      "cell_type": "markdown",
      "metadata": {
        "id": "xfpwoI2Sc_b1"
      },
      "source": [
        "### **Filtering using single condition**\n",
        "\n",
        "Let's see how to filter a spark dataframe using one condition."
      ]
    },
    {
      "cell_type": "code",
      "execution_count": 9,
      "metadata": {
        "colab": {
          "base_uri": "https://localhost:8080/"
        },
        "id": "nkLBcSB5bjmM",
        "outputId": "36dbe727-18c8-4446-df91-bc8a087db14f"
      },
      "outputs": [
        {
          "name": "stdout",
          "output_type": "stream",
          "text": [
            "+----+---+------+\n",
            "|Name|Age|NewAge|\n",
            "+----+---+------+\n",
            "| Sam| 54|   108|\n",
            "+----+---+------+\n",
            "\n"
          ]
        }
      ],
      "source": [
        "#Getting details of a employee whose age is above 50.\n",
        "df.filter(\"Age > 50\").show()"
      ]
    },
    {
      "cell_type": "markdown",
      "metadata": {
        "id": "lXXreBfndjTK"
      },
      "source": [
        "You can also do the same query in another way as shown below"
      ]
    },
    {
      "cell_type": "code",
      "execution_count": 10,
      "metadata": {
        "colab": {
          "base_uri": "https://localhost:8080/"
        },
        "id": "1TF3CFABdab4",
        "outputId": "f263eaa9-7279-4318-cf02-0bc958923f0c"
      },
      "outputs": [
        {
          "name": "stdout",
          "output_type": "stream",
          "text": [
            "+----+---+------+\n",
            "|Name|Age|NewAge|\n",
            "+----+---+------+\n",
            "| Sam| 54|   108|\n",
            "+----+---+------+\n",
            "\n"
          ]
        }
      ],
      "source": [
        "df.filter(df[\"Age\"]>50).show()"
      ]
    },
    {
      "cell_type": "code",
      "execution_count": 11,
      "metadata": {
        "colab": {
          "base_uri": "https://localhost:8080/"
        },
        "id": "ogWKhyzDdril",
        "outputId": "f9bf299d-8b02-4bbd-e1ab-b5801d2f4154"
      },
      "outputs": [
        {
          "name": "stdout",
          "output_type": "stream",
          "text": [
            "+----+---+\n",
            "|Name|Age|\n",
            "+----+---+\n",
            "| Sam| 54|\n",
            "+----+---+\n",
            "\n"
          ]
        }
      ],
      "source": [
        "#Let's choose two columns out from the filter result using select()\n",
        "df.filter(df[\"Age\"]>50).select([\"Name\",\"Age\"]).show()"
      ]
    },
    {
      "cell_type": "markdown",
      "metadata": {
        "id": "LTOji1x3eBXE"
      },
      "source": [
        "### **Filtering using multiple conditions**\n",
        "\n",
        "Basically you can query a datframe with one or more than one conditions using filter(), those multiple conditions will be declared using the logical operators like  (AND)& , (OR)|, (NOT)~ . Spark dataframe filter supports logical operations declared only in the symbol rather than declaring those operators in words, and also the conditions should be enclosed within the brackets (). If you don't do so then it may throws an error. "
      ]
    },
    {
      "cell_type": "code",
      "execution_count": 12,
      "metadata": {
        "colab": {
          "base_uri": "https://localhost:8080/"
        },
        "id": "UgITAqFed-C6",
        "outputId": "2cc37af9-45d7-4455-b640-5eec071e46ea"
      },
      "outputs": [
        {
          "name": "stdout",
          "output_type": "stream",
          "text": [
            "+-----------+---+------+\n",
            "|       Name|Age|NewAge|\n",
            "+-----------+---+------+\n",
            "|Swaminathan| 24|    48|\n",
            "+-----------+---+------+\n",
            "\n"
          ]
        }
      ],
      "source": [
        "#Filtering using multiple condition\n",
        "df.filter((df[\"Age\"]>20) & (df[\"Name\"]==\"Swaminathan\")).show()"
      ]
    },
    {
      "cell_type": "code",
      "execution_count": 13,
      "metadata": {
        "colab": {
          "base_uri": "https://localhost:8080/"
        },
        "id": "Em9C5ykafVzK",
        "outputId": "8f5f7e11-9c42-4365-9760-559fa66122c2"
      },
      "outputs": [
        {
          "name": "stdout",
          "output_type": "stream",
          "text": [
            "+-----------+---+\n",
            "|       Name|Age|\n",
            "+-----------+---+\n",
            "|Swaminathan| 24|\n",
            "+-----------+---+\n",
            "\n"
          ]
        }
      ],
      "source": [
        "#Choosing specific columns of a filtered spark dataframe\n",
        "df.filter((df[\"Age\"]>20) & (df[\"Name\"]==\"Swaminathan\")).select([\"Name\",\"Age\"]).show()"
      ]
    },
    {
      "cell_type": "markdown",
      "metadata": {
        "id": "6ya7I0tNf5Me"
      },
      "source": [
        "## **Converting a filter query result to json(python dictionary)**\n",
        "\n",
        "You can convert a filtered query result which is basically in the form of a spark dataframe into a python dictionary(json) using the collect() and asDict() method available in pyspark and python."
      ]
    },
    {
      "cell_type": "code",
      "execution_count": 14,
      "metadata": {
        "colab": {
          "base_uri": "https://localhost:8080/"
        },
        "id": "VLF-461Pfu_f",
        "outputId": "4fb5fca7-1647-4aa0-c86a-036899f7c02d"
      },
      "outputs": [
        {
          "name": "stdout",
          "output_type": "stream",
          "text": [
            "+----+---+------+\n",
            "|Name|Age|NewAge|\n",
            "+----+---+------+\n",
            "| Sam| 54|   108|\n",
            "+----+---+------+\n",
            "\n"
          ]
        }
      ],
      "source": [
        "#Let's filter the record of a individual whose new age is beyond 60.\n",
        "df.filter(df[\"NewAge\"]>60).show()"
      ]
    },
    {
      "cell_type": "code",
      "execution_count": 15,
      "metadata": {
        "id": "NBOSrw1Ygc-4"
      },
      "outputs": [],
      "source": [
        "#Later then let's assign the filter result to a variable\n",
        "filter_result = df.filter(df[\"NewAge\"]>60).collect()"
      ]
    },
    {
      "cell_type": "code",
      "execution_count": 16,
      "metadata": {
        "colab": {
          "base_uri": "https://localhost:8080/"
        },
        "id": "aainAb7mhB8z",
        "outputId": "600f616d-9ee4-4153-e747-3177e0b2c48b"
      },
      "outputs": [
        {
          "data": {
            "text/plain": [
              "[Row(Name='Sam', Age=54, NewAge=108)]"
            ]
          },
          "execution_count": 16,
          "metadata": {},
          "output_type": "execute_result"
        }
      ],
      "source": [
        "#The result would be a list of rows.\n",
        "filter_result"
      ]
    },
    {
      "cell_type": "code",
      "execution_count": 17,
      "metadata": {
        "colab": {
          "base_uri": "https://localhost:8080/"
        },
        "id": "DiiUjHHnkE3T",
        "outputId": "9b166958-2064-4620-bc2a-a90167d00cf0"
      },
      "outputs": [
        {
          "data": {
            "text/plain": [
              "{'Name': 'Sam', 'Age': 54, 'NewAge': 108}"
            ]
          },
          "execution_count": 17,
          "metadata": {},
          "output_type": "execute_result"
        }
      ],
      "source": [
        "#Let's convert the result into a python dictionary\n",
        "filter_result[0].asDict()"
      ]
    },
    {
      "cell_type": "code",
      "execution_count": 18,
      "metadata": {
        "colab": {
          "base_uri": "https://localhost:8080/",
          "height": 35
        },
        "id": "z-X8s9ENkSGJ",
        "outputId": "37fec1a3-fc27-45f4-a994-a2e16c0eb58d"
      },
      "outputs": [
        {
          "data": {
            "text/plain": [
              "'Sam'"
            ]
          },
          "execution_count": 18,
          "metadata": {},
          "output_type": "execute_result"
        }
      ],
      "source": [
        "#Let's try to get the \"Name\" from the dictionary\n",
        "#Let's convert the result into a python dictionary\n",
        "filter_result[0].asDict()[\"Name\"]"
      ]
    }
  ],
  "metadata": {
    "colab": {
      "provenance": []
    },
    "kernelspec": {
      "display_name": "Python 3",
      "name": "python3"
    },
    "language_info": {
      "codemirror_mode": {
        "name": "ipython",
        "version": 3
      },
      "file_extension": ".py",
      "mimetype": "text/x-python",
      "name": "python",
      "nbconvert_exporter": "python",
      "pygments_lexer": "ipython3",
      "version": "3.8.16"
    }
  },
  "nbformat": 4,
  "nbformat_minor": 0
}
