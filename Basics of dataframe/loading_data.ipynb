{
  "cells": [
    {
      "cell_type": "markdown",
      "metadata": {
        "id": "1v5_sjb3N2Aj"
      },
      "source": [
        "# **Basics of dataframe**\n",
        "\n",
        "Dataframe is a datastructure used to store data in the form of a table that contains of rows and columns,which will be useful in handling structured data. Python has an library called as Pyspark which will be helpful in doing spark related operations.\n",
        "\n",
        "In this section of the notebook, let's see how to:\n",
        "\n",
        "> Import pyspark and creating spark session\n",
        "\n",
        "\n",
        "> Reading a csv and json file using pyspark\n",
        "\n",
        "\n",
        "> Viewing,inferring, typecasting schema of the dataframe\n",
        "\n",
        "\n",
        "\n",
        "\n",
        "\n",
        "\n",
        "\n",
        "\n",
        "\n"
      ]
    },
    {
      "cell_type": "markdown",
      "metadata": {
        "id": "6Bhy5hkeRLU1"
      },
      "source": [
        "## **Import pyspark**\n",
        "\n",
        "\n",
        "If you have installed pyspark correctly as per the recommended procedures then the below code cell will run without any issues, or if you have any issues while executing then checkout the reference links of this repository"
      ]
    },
    {
      "cell_type": "code",
      "execution_count": 1,
      "metadata": {
        "id": "oY6WoG_eN2As"
      },
      "outputs": [],
      "source": [
        "#Importing pyspark\n",
        "import pyspark"
      ]
    },
    {
      "cell_type": "markdown",
      "metadata": {
        "id": "TLRO__3WRZAa"
      },
      "source": [
        "### Creating a spark session\n",
        "1. Inorder to execute spark commands we need to initialize a spark session with an app name\n",
        "2. This will helps to perform the spark related activities on the local machine.\n",
        "3. For databricks you might don't need to execute this command as databricks itself will create a spark session for you."
      ]
    },
    {
      "cell_type": "code",
      "execution_count": 2,
      "metadata": {
        "id": "fu4D34x1N2Az"
      },
      "outputs": [],
      "source": [
        "from pyspark.sql import SparkSession\n",
        "spark = SparkSession.builder.appName(\"Test\").getOrCreate()"
      ]
    },
    {
      "cell_type": "markdown",
      "metadata": {
        "id": "PLC-7KX5N2A0"
      },
      "source": [
        "The above cell will take some amount of time while your'e executing it for the very first time."
      ]
    },
    {
      "cell_type": "code",
      "execution_count": 3,
      "metadata": {
        "colab": {
          "base_uri": "https://localhost:8080/",
          "height": 219
        },
        "id": "Va9ftcDrPb6J",
        "outputId": "aad88eab-23de-4f74-e09c-1ba471b0046b"
      },
      "outputs": [
        {
          "data": {
            "text/html": [
              "\n",
              "            <div>\n",
              "                <p><b>SparkSession - in-memory</b></p>\n",
              "                \n",
              "        <div>\n",
              "            <p><b>SparkContext</b></p>\n",
              "\n",
              "            <p><a href=\"http://NSPL-LAP554.nuvento.net:4040\">Spark UI</a></p>\n",
              "\n",
              "            <dl>\n",
              "              <dt>Version</dt>\n",
              "                <dd><code>v3.3.2</code></dd>\n",
              "              <dt>Master</dt>\n",
              "                <dd><code>local[*]</code></dd>\n",
              "              <dt>AppName</dt>\n",
              "                <dd><code>Test</code></dd>\n",
              "            </dl>\n",
              "        </div>\n",
              "        \n",
              "            </div>\n",
              "        "
            ],
            "text/plain": [
              "<pyspark.sql.session.SparkSession at 0x25f348a0370>"
            ]
          },
          "execution_count": 3,
          "metadata": {},
          "output_type": "execute_result"
        }
      ],
      "source": [
        "#Checking the created spark session object\n",
        "spark"
      ]
    },
    {
      "cell_type": "markdown",
      "metadata": {
        "id": "hXAfh0pvUpJ9"
      },
      "source": [
        "## **Reading Dataframe using pyspark**\n",
        "\n",
        "Pyspark offers variety of options to read data from different kinds of files like as you see in the below screenshot.\n",
        "\n",
        "![Screenshot (19).png](data:image/png;base64,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)\n",
        "\n",
        "Here we are going to see how to load a csv file as a dataframe using pyspark"
      ]
    },
    {
      "cell_type": "code",
      "execution_count": 4,
      "metadata": {
        "id": "hXwhJem4N2A3"
      },
      "outputs": [],
      "source": [
        "#Reading a csv file using spark\n",
        "df = spark.read.csv(\"Data1.csv\")"
      ]
    },
    {
      "cell_type": "markdown",
      "metadata": {
        "id": "dVJGoyHTWuT-"
      },
      "source": [
        "## **Viewing, Inferring and typecasting schema of a spark dataframe**"
      ]
    },
    {
      "cell_type": "markdown",
      "metadata": {
        "id": "TVLEw5m6XF32"
      },
      "source": [
        "### Viewing the dataframe"
      ]
    },
    {
      "cell_type": "code",
      "execution_count": 5,
      "metadata": {
        "colab": {
          "base_uri": "https://localhost:8080/"
        },
        "id": "p6oYh-H_N2A5",
        "outputId": "7ca58b2e-ca68-45a8-e9c8-9da3ca8593b7"
      },
      "outputs": [
        {
          "data": {
            "text/plain": [
              "DataFrame[_c0: string, _c1: string]"
            ]
          },
          "execution_count": 5,
          "metadata": {},
          "output_type": "execute_result"
        }
      ],
      "source": [
        "#Inorder to view the loaded csv file let's see what is the type of the \"df\" variable.\n",
        "df"
      ]
    },
    {
      "cell_type": "code",
      "execution_count": 6,
      "metadata": {
        "colab": {
          "base_uri": "https://localhost:8080/"
        },
        "id": "xdzWMaloV_Dr",
        "outputId": "385149dc-f350-440a-84b6-f323a3a7040d"
      },
      "outputs": [
        {
          "name": "stdout",
          "output_type": "stream",
          "text": [
            "+-----------+----+\n",
            "|        _c0| _c1|\n",
            "+-----------+----+\n",
            "|       Name| Age|\n",
            "|Swaminathan|  24|\n",
            "|      Peter|null|\n",
            "|        Sam|  54|\n",
            "|      Henry|null|\n",
            "+-----------+----+\n",
            "\n"
          ]
        }
      ],
      "source": [
        "#Though it's of a spark dataframe type, use .show() to view the loaded dataframe\n",
        "#This .show() will be very useful in displaying the spark dataframe.\n",
        "df.show()"
      ]
    },
    {
      "cell_type": "markdown",
      "metadata": {
        "id": "O9IHmP13XTr4"
      },
      "source": [
        "You could see in the above code cell, the column names were different, that was because we haven't mentioned that the first row of the dataframe will be the header(column name) of the dataframe while loading."
      ]
    },
    {
      "cell_type": "code",
      "execution_count": 7,
      "metadata": {
        "id": "HoICyfimN2A-"
      },
      "outputs": [],
      "source": [
        "#Reading the same data, with header = True.\n",
        "df=spark.read.csv(\"Data1.csv\", header=True)"
      ]
    },
    {
      "cell_type": "code",
      "execution_count": 8,
      "metadata": {
        "colab": {
          "base_uri": "https://localhost:8080/"
        },
        "id": "xApc6jsLakMH",
        "outputId": "7c12f096-65be-402e-d1f7-58e2e93f026f"
      },
      "outputs": [
        {
          "name": "stdout",
          "output_type": "stream",
          "text": [
            "+-----------+----+\n",
            "|       Name| Age|\n",
            "+-----------+----+\n",
            "|Swaminathan|  24|\n",
            "|      Peter|null|\n",
            "|        Sam|  54|\n",
            "|      Henry|null|\n",
            "+-----------+----+\n",
            "\n"
          ]
        }
      ],
      "source": [
        "df.show()"
      ]
    },
    {
      "cell_type": "markdown",
      "metadata": {
        "id": "B8hiWzJjXLbu"
      },
      "source": [
        "### Printing schema of the dataframe\n",
        "\n",
        "Schema will gives the information of each columns within the dataset."
      ]
    },
    {
      "cell_type": "code",
      "execution_count": 9,
      "metadata": {
        "colab": {
          "base_uri": "https://localhost:8080/"
        },
        "id": "cogklyWbN2A9",
        "outputId": "87380c81-f961-4cba-b265-2a212047f697"
      },
      "outputs": [
        {
          "name": "stdout",
          "output_type": "stream",
          "text": [
            "root\n",
            " |-- Name: string (nullable = true)\n",
            " |-- Age: string (nullable = true)\n",
            "\n"
          ]
        }
      ],
      "source": [
        "# printSchema() will gives the schema of the loaded dataframe.\n",
        "df.printSchema()"
      ]
    },
    {
      "cell_type": "markdown",
      "metadata": {
        "id": "Gl7U-JdzYX8p"
      },
      "source": [
        "The column type \"Age\" is mentioned as String, this is because we haven't inferred the schema of the csv file while we are loading it.\n",
        "\n",
        "Note: pyspark.read.csv() has a functionality known as inferschema that will helps in indentifying the datatype of the column. This method is available only for csv files."
      ]
    },
    {
      "cell_type": "code",
      "execution_count": 10,
      "metadata": {
        "id": "2fzgAWl_ZQY5"
      },
      "outputs": [],
      "source": [
        "#Reading the same data, with header and inferschema = True.\n",
        "df=spark.read.csv(\"Data1.csv\", header=True, inferSchema=True)"
      ]
    },
    {
      "cell_type": "code",
      "execution_count": 11,
      "metadata": {
        "colab": {
          "base_uri": "https://localhost:8080/"
        },
        "id": "LPQ2UTdeN2A-",
        "outputId": "6abcc629-9c0b-4344-88fc-3535f6a5f6df"
      },
      "outputs": [
        {
          "name": "stdout",
          "output_type": "stream",
          "text": [
            "+-----------+----+\n",
            "|       Name| Age|\n",
            "+-----------+----+\n",
            "|Swaminathan|  24|\n",
            "|      Peter|null|\n",
            "|        Sam|  54|\n",
            "|      Henry|null|\n",
            "+-----------+----+\n",
            "\n"
          ]
        }
      ],
      "source": [
        "#Viewing the newly loaded dataframe.\n",
        "df.show()"
      ]
    },
    {
      "cell_type": "code",
      "execution_count": 12,
      "metadata": {
        "colab": {
          "base_uri": "https://localhost:8080/"
        },
        "id": "YBNbl3lWN2A_",
        "outputId": "c8065a65-2990-4d7b-ff8a-828cc9733670"
      },
      "outputs": [
        {
          "name": "stdout",
          "output_type": "stream",
          "text": [
            "root\n",
            " |-- Name: string (nullable = true)\n",
            " |-- Age: integer (nullable = true)\n",
            "\n"
          ]
        }
      ],
      "source": [
        "#Printing the schema of the newly loaded csv dataframe\n",
        "df.printSchema()"
      ]
    },
    {
      "cell_type": "code",
      "execution_count": 13,
      "metadata": {
        "colab": {
          "base_uri": "https://localhost:8080/"
        },
        "id": "c73qYnQYN2BA",
        "outputId": "faa4fa8c-0846-4362-a935-25121981681d"
      },
      "outputs": [
        {
          "data": {
            "text/plain": [
              "['Name', 'Age']"
            ]
          },
          "execution_count": 13,
          "metadata": {},
          "output_type": "execute_result"
        }
      ],
      "source": [
        "#Gives out the columns present in the dataframe.\n",
        "df.columns"
      ]
    },
    {
      "cell_type": "code",
      "execution_count": 14,
      "metadata": {
        "colab": {
          "base_uri": "https://localhost:8080/"
        },
        "id": "OkByCUXxN2BA",
        "outputId": "fe7e90ce-795a-4f09-e1b4-80fbca1d32d5"
      },
      "outputs": [
        {
          "name": "stdout",
          "output_type": "stream",
          "text": [
            "+-------+-----------+------------------+\n",
            "|summary|       Name|               Age|\n",
            "+-------+-----------+------------------+\n",
            "|  count|          4|                 2|\n",
            "|   mean|       null|              39.0|\n",
            "| stddev|       null|21.213203435596427|\n",
            "|    min|      Henry|                24|\n",
            "|    max|Swaminathan|                54|\n",
            "+-------+-----------+------------------+\n",
            "\n"
          ]
        }
      ],
      "source": [
        "#gives out the statistical analysis of datapoints as per the columns in the dataframe.\n",
        "df.describe().show()"
      ]
    },
    {
      "cell_type": "code",
      "execution_count": 15,
      "metadata": {
        "id": "vAusSdHRSTNf"
      },
      "outputs": [],
      "source": [
        "#Loading a json file using pyspark\n",
        "#Since the json is multiline, the multiline parameter is set as True.\n",
        "df_json=spark.read.json(\"Data1.json\", multiLine=True)"
      ]
    },
    {
      "cell_type": "code",
      "execution_count": 16,
      "metadata": {
        "colab": {
          "base_uri": "https://localhost:8080/"
        },
        "id": "9NzQVcLLSkTq",
        "outputId": "8c03879d-339c-442f-f875-e3211adea954"
      },
      "outputs": [
        {
          "name": "stdout",
          "output_type": "stream",
          "text": [
            "+---+-----------+\n",
            "|Age|       Name|\n",
            "+---+-----------+\n",
            "| 24|Swaminathan|\n",
            "| 32|      Peter|\n",
            "| 54|        Sam|\n",
            "| 12|      Henry|\n",
            "+---+-----------+\n",
            "\n"
          ]
        }
      ],
      "source": [
        "#Viewing the json dataframe.\n",
        "df_json.show()"
      ]
    },
    {
      "cell_type": "code",
      "execution_count": 17,
      "metadata": {
        "colab": {
          "base_uri": "https://localhost:8080/"
        },
        "id": "WOhLm1DEa3w3",
        "outputId": "52780a32-c506-4078-9078-0776e7aef16c"
      },
      "outputs": [
        {
          "name": "stdout",
          "output_type": "stream",
          "text": [
            "root\n",
            " |-- Age: long (nullable = true)\n",
            " |-- Name: string (nullable = true)\n",
            "\n"
          ]
        }
      ],
      "source": [
        "#Prints the schema of the json file.\n",
        "df_json.printSchema()"
      ]
    },
    {
      "cell_type": "markdown",
      "metadata": {
        "id": "q2sz7dN7c5-V"
      },
      "source": [
        "Notice that the \"Age\" column belongs to long datatype, whereas it should be a integer.For this we need to typecast the columns of the json file using StructType and StructField that is available in pyspark."
      ]
    },
    {
      "cell_type": "markdown",
      "metadata": {
        "id": "mLtuwQ24eMpx"
      },
      "source": [
        "### Typecasting of columns in a dataframe\n",
        "\n",
        "Typecasting is the process of changing one variable datatype into another, here we are changing the type of spark dataframe columns"
      ]
    },
    {
      "cell_type": "code",
      "execution_count": 18,
      "metadata": {
        "id": "KC9QxXtZa9oC"
      },
      "outputs": [],
      "source": [
        "#Importing Types and fields from pyspark types\n",
        "from pyspark.sql.types import StructType,StructField,IntegerType,StringType"
      ]
    },
    {
      "cell_type": "code",
      "execution_count": 19,
      "metadata": {
        "id": "lwBfng9NbOqF"
      },
      "outputs": [],
      "source": [
        "#Defining the Field names along with it's datatypes.\n",
        "json_schema = [StructField(\"Name\", StringType(),True),\n",
        "               StructField(\"Age\", IntegerType(),True)]\n",
        "json_fields = StructType(json_schema)"
      ]
    },
    {
      "cell_type": "code",
      "execution_count": 20,
      "metadata": {
        "id": "d_Zf7kEtbaP9"
      },
      "outputs": [],
      "source": [
        "#Reloading the same json with typecasting of columns\n",
        "df_json = spark.read.json(\"Data1.json\",schema=json_fields,multiLine=True)"
      ]
    },
    {
      "cell_type": "code",
      "execution_count": 21,
      "metadata": {
        "colab": {
          "base_uri": "https://localhost:8080/"
        },
        "id": "3FAqZjZ9byyr",
        "outputId": "9f7c5a81-a34b-45e1-f887-59bff3112075"
      },
      "outputs": [
        {
          "name": "stdout",
          "output_type": "stream",
          "text": [
            "+-----------+---+\n",
            "|       Name|Age|\n",
            "+-----------+---+\n",
            "|Swaminathan| 24|\n",
            "|      Peter| 32|\n",
            "|        Sam| 54|\n",
            "|      Henry| 12|\n",
            "+-----------+---+\n",
            "\n"
          ]
        }
      ],
      "source": [
        "#Displaying the reloaded json.\n",
        "df_json.show()"
      ]
    },
    {
      "cell_type": "code",
      "execution_count": 22,
      "metadata": {
        "colab": {
          "base_uri": "https://localhost:8080/"
        },
        "id": "v1lTlJpxbz_1",
        "outputId": "d4d31cce-c923-4cbc-e204-ea11b050cf25"
      },
      "outputs": [
        {
          "name": "stdout",
          "output_type": "stream",
          "text": [
            "root\n",
            " |-- Name: string (nullable = true)\n",
            " |-- Age: integer (nullable = true)\n",
            "\n"
          ]
        }
      ],
      "source": [
        "#Printing the schema of the reloaded json file.\n",
        "df_json.printSchema()"
      ]
    },
    {
      "cell_type": "markdown",
      "metadata": {
        "id": "NUdqyaXnd47_"
      },
      "source": [
        "Now you can see the column type of age was changed to integer."
      ]
    }
  ],
  "metadata": {
    "colab": {
      "provenance": []
    },
    "kernelspec": {
      "display_name": "spark-env",
      "language": "python",
      "name": "python3"
    },
    "language_info": {
      "codemirror_mode": {
        "name": "ipython",
        "version": 3
      },
      "file_extension": ".py",
      "mimetype": "text/x-python",
      "name": "python",
      "nbconvert_exporter": "python",
      "pygments_lexer": "ipython3",
      "version": "3.8.16"
    },
    "orig_nbformat": 4
  },
  "nbformat": 4,
  "nbformat_minor": 0
}
